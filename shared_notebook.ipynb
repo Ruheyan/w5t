{
 "cells": [
  {
   "cell_type": "markdown",
   "metadata": {},
   "source": [
    "hello, I am M2"
   ]
  }
 ],
 "metadata": {
  "language_info": {
   "name": "python"
  }
 },
 "nbformat": 4,
 "nbformat_minor": 2
}
